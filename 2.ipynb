{
 "cells": [
  {
   "cell_type": "code",
   "execution_count": 2,
   "metadata": {},
   "outputs": [
    {
     "name": "stdout",
     "output_type": "stream",
     "text": [
      "{\"id\":550,\"results\":[{\"iso_3166_1\":\"AE\",\"release_dates\":[{\"certification\":\"\",\"descriptors\":[],\"iso_639_1\":\"\",\"note\":\"Blu-ray\",\"release_date\":\"2009-11-23T00:00:00.000Z\",\"type\":5}]},{\"iso_3166_1\":\"AR\",\"release_dates\":[{\"certification\":\"18\",\"descriptors\":[],\"iso_639_1\":\"\",\"note\":\"\",\"release_date\":\"1999-11-04T00:00:00.000Z\",\"type\":3}]},{\"iso_3166_1\":\"AU\",\"release_dates\":[{\"certification\":\"R 18+\",\"descriptors\":[],\"iso_639_1\":\"\",\"note\":\"\",\"release_date\":\"1999-11-11T00:00:00.000Z\",\"type\":3}]},{\"iso_3166_1\":\"BE\",\"release_dates\":[{\"certification\":\"18\",\"descriptors\":[],\"iso_639_1\":\"\",\"note\":\"\",\"release_date\":\"1999-11-10T00:00:00.000Z\",\"type\":3}]},{\"iso_3166_1\":\"BG\",\"release_dates\":[{\"certification\":\"c\",\"descriptors\":[],\"iso_639_1\":\"\",\"note\":\"\",\"release_date\":\"2012-08-28T00:00:00.000Z\",\"type\":3}]},{\"iso_3166_1\":\"BR\",\"release_dates\":[{\"certification\":\"18\",\"descriptors\":[],\"iso_639_1\":\"\",\"note\":\"\",\"release_date\":\"1999-10-29T00:00:00.000Z\",\"type\":3}]},{\"iso_3166_1\":\"CA\",\"release_dates\":[{\"certification\":\"18A\",\"descriptors\":[],\"iso_639_1\":\"\",\"note\":\"\",\"release_date\":\"1999-10-15T00:00:00.000Z\",\"type\":3}]},{\"iso_3166_1\":\"CH\",\"release_dates\":[{\"certification\":\"18\",\"descriptors\":[],\"iso_639_1\":\"fr\",\"note\":\"\",\"release_date\":\"1999-11-10T00:00:00.000Z\",\"type\":3},{\"certification\":\"18\",\"descriptors\":[],\"iso_639_1\":\"de\",\"note\":\"\",\"release_date\":\"1999-11-04T00:00:00.000Z\",\"type\":3}]},{\"iso_3166_1\":\"CZ\",\"release_dates\":[{\"certification\":\"18+\",\"descriptors\":[],\"iso_639_1\":\"\",\"note\":\"Febio Film Festival\",\"release_date\":\"2000-01-25T00:00:00.000Z\",\"type\":1},{\"certification\":\"18+\",\"descriptors\":[],\"iso_639_1\":\"\",\"note\":\"\",\"release_date\":\"2000-02-10T00:00:00.000Z\",\"type\":3}]},{\"iso_3166_1\":\"DE\",\"release_dates\":[{\"certification\":\"18\",\"descriptors\":[],\"iso_639_1\":\"\",\"note\":\"\",\"release_date\":\"1999-11-11T00:00:00.000Z\",\"type\":3}]},{\"iso_3166_1\":\"DK\",\"release_dates\":[{\"certification\":\"15\",\"descriptors\":[],\"iso_639_1\":\"\",\"note\":\"\",\"release_date\":\"1999-11-05T00:00:00.000Z\",\"type\":3}]},{\"iso_3166_1\":\"EE\",\"release_dates\":[{\"certification\":\"\",\"descriptors\":[],\"iso_639_1\":\"\",\"note\":\"\",\"release_date\":\"2000-01-07T00:00:00.000Z\",\"type\":3}]},{\"iso_3166_1\":\"EG\",\"release_dates\":[{\"certification\":\"\",\"descriptors\":[],\"iso_639_1\":\"\",\"note\":\"\",\"release_date\":\"2000-03-01T00:00:00.000Z\",\"type\":3}]},{\"iso_3166_1\":\"ES\",\"release_dates\":[{\"certification\":\"18\",\"descriptors\":[],\"iso_639_1\":\"\",\"note\":\"\",\"release_date\":\"1999-11-05T00:00:00.000Z\",\"type\":3}]},{\"iso_3166_1\":\"FI\",\"release_dates\":[{\"certification\":\"K-18\",\"descriptors\":[],\"iso_639_1\":\"\",\"note\":\"\",\"release_date\":\"1999-11-12T00:00:00.000Z\",\"type\":3}]},{\"iso_3166_1\":\"FR\",\"release_dates\":[{\"certification\":\"16\",\"descriptors\":[],\"iso_639_1\":\"\",\"note\":\"\",\"release_date\":\"1999-11-10T00:00:00.000Z\",\"type\":3},{\"certification\":\"\",\"descriptors\":[],\"iso_639_1\":\"\",\"note\":\"Re-release\",\"release_date\":\"2019-05-15T00:00:00.000Z\",\"type\":3},{\"certification\":\"16\",\"descriptors\":[],\"iso_639_1\":\"\",\"note\":\"\",\"release_date\":\"2011-09-08T00:00:00.000Z\",\"type\":4},{\"certification\":\"16\",\"descriptors\":[],\"iso_639_1\":\"\",\"note\":\"Netflix\",\"release_date\":\"2021-10-01T00:00:00.000Z\",\"type\":4},{\"certification\":\"18\",\"descriptors\":[],\"iso_639_1\":\"\",\"note\":\"Prime Video\",\"release_date\":\"2019-07-18T00:00:00.000Z\",\"type\":4},{\"certification\":\"\",\"descriptors\":[],\"iso_639_1\":\"\",\"note\":\"Disney+\",\"release_date\":\"2021-12-31T00:00:00.000Z\",\"type\":4},{\"certification\":\"16\",\"descriptors\":[],\"iso_639_1\":\"\",\"note\":\"Blu-ray\",\"release_date\":\"2009-11-25T00:00:00.000Z\",\"type\":5},{\"certification\":\"16\",\"descriptors\":[],\"iso_639_1\":\"\",\"note\":\"DVD\",\"release_date\":\"2000-11-15T00:00:00.000Z\",\"type\":5}]},{\"iso_3166_1\":\"GB\",\"release_dates\":[{\"certification\":\"18\",\"descriptors\":[],\"iso_639_1\":\"\",\"note\":\"\",\"release_date\":\"1999-11-12T00:00:00.000Z\",\"type\":3},{\"certification\":\"15\",\"descriptors\":[],\"iso_639_1\":\"\",\"note\":\"25th Anniversary\",\"release_date\":\"2024-03-15T00:00:00.000Z\",\"type\":3}]},{\"iso_3166_1\":\"GR\",\"release_dates\":[{\"certification\":\"\",\"descriptors\":[],\"iso_639_1\":\"\",\"note\":\"\",\"release_date\":\"2000-02-18T00:00:00.000Z\",\"type\":3}]},{\"iso_3166_1\":\"HK\",\"release_dates\":[{\"certification\":\"IIB\",\"descriptors\":[],\"iso_639_1\":\"\",\"note\":\"\",\"release_date\":\"1999-11-11T00:00:00.000Z\",\"type\":3}]},{\"iso_3166_1\":\"HR\",\"release_dates\":[{\"certification\":\"\",\"descriptors\":[],\"iso_639_1\":\"\",\"note\":\"\",\"release_date\":\"2000-03-09T00:00:00.000Z\",\"type\":3}]},{\"iso_3166_1\":\"HU\",\"release_dates\":[{\"certification\":\"18\",\"descriptors\":[],\"iso_639_1\":\"\",\"note\":\"\",\"release_date\":\"2000-01-27T00:00:00.000Z\",\"type\":3},{\"certification\":\"18\",\"descriptors\":[],\"iso_639_1\":\"\",\"note\":\"Re-release\",\"release_date\":\"2015-06-18T00:00:00.000Z\",\"type\":3}]},{\"iso_3166_1\":\"ID\",\"release_dates\":[{\"certification\":\"21+\",\"descriptors\":[],\"iso_639_1\":\"\",\"note\":\"\",\"release_date\":\"2021-11-05T00:00:00.000Z\",\"type\":6}]},{\"iso_3166_1\":\"IE\",\"release_dates\":[{\"certification\":\"18\",\"descriptors\":[],\"iso_639_1\":\"\",\"note\":\"\",\"release_date\":\"1999-11-12T00:00:00.000Z\",\"type\":3}]},{\"iso_3166_1\":\"IL\",\"release_dates\":[{\"certification\":\"16\",\"descriptors\":[],\"iso_639_1\":\"\",\"note\":\"\",\"release_date\":\"1999-11-16T00:00:00.000Z\",\"type\":3}]},{\"iso_3166_1\":\"IN\",\"release_dates\":[{\"certification\":\"A\",\"descriptors\":[],\"iso_639_1\":\"\",\"note\":\"\",\"release_date\":\"1999-10-15T00:00:00.000Z\",\"type\":3}]},{\"iso_3166_1\":\"IS\",\"release_dates\":[{\"certification\":\"16\",\"descriptors\":[],\"iso_639_1\":\"\",\"note\":\"\",\"release_date\":\"1999-11-05T00:00:00.000Z\",\"type\":3}]},{\"iso_3166_1\":\"IT\",\"release_dates\":[{\"certification\":\"\",\"descriptors\":[],\"iso_639_1\":\"\",\"note\":\"Venice Film Festival\",\"release_date\":\"1999-09-10T00:00:00.000Z\",\"type\":1},{\"certification\":\"VM14\",\"descriptors\":[],\"iso_639_1\":\"\",\"note\":\"\",\"release_date\":\"1999-10-29T00:00:00.000Z\",\"type\":3}]},{\"iso_3166_1\":\"JP\",\"release_dates\":[{\"certification\":\"PG12 \",\"descriptors\":[],\"iso_639_1\":\"\",\"note\":\"\",\"release_date\":\"1999-12-11T00:00:00.000Z\",\"type\":3}]},{\"iso_3166_1\":\"KR\",\"release_dates\":[{\"certification\":\"19\",\"descriptors\":[],\"iso_639_1\":\"\",\"note\":\"\",\"release_date\":\"1999-11-13T00:00:00.000Z\",\"type\":3}]},{\"iso_3166_1\":\"LT\",\"release_dates\":[{\"certification\":\"N-16\",\"descriptors\":[],\"iso_639_1\":\"\",\"note\":\"Re-release\",\"release_date\":\"2019-06-09T00:00:00.000Z\",\"type\":3},{\"certification\":\"N-16\",\"descriptors\":[],\"iso_639_1\":\"\",\"note\":\"\",\"release_date\":\"2000-01-21T00:00:00.000Z\",\"type\":3}]},{\"iso_3166_1\":\"MT\",\"release_dates\":[{\"certification\":\"\",\"descriptors\":[],\"iso_639_1\":\"\",\"note\":\"\",\"release_date\":\"1999-11-24T00:00:00.000Z\",\"type\":3}]},{\"iso_3166_1\":\"MX\",\"release_dates\":[{\"certification\":\"C \",\"descriptors\":[],\"iso_639_1\":\"\",\"note\":\"\",\"release_date\":\"1999-11-05T00:00:00.000Z\",\"type\":3}]},{\"iso_3166_1\":\"MY\",\"release_dates\":[{\"certification\":\"18PL\",\"descriptors\":[],\"iso_639_1\":\"\",\"note\":\"\",\"release_date\":\"2000-01-13T00:00:00.000Z\",\"type\":3}]},{\"iso_3166_1\":\"NL\",\"release_dates\":[{\"certification\":\"16\",\"descriptors\":[],\"iso_639_1\":\"\",\"note\":\"\",\"release_date\":\"1999-11-04T00:00:00.000Z\",\"type\":3},{\"certification\":\"16\",\"descriptors\":[],\"iso_639_1\":\"\",\"note\":\"DVD\",\"release_date\":\"2004-08-04T00:00:00.000Z\",\"type\":5},{\"certification\":\"16\",\"descriptors\":[],\"iso_639_1\":\"\",\"note\":\"Net 5\",\"release_date\":\"2002-10-26T00:00:00.000Z\",\"type\":5}]},{\"iso_3166_1\":\"NO\",\"release_dates\":[{\"certification\":\"18\",\"descriptors\":[],\"iso_639_1\":\"\",\"note\":\"\",\"release_date\":\"1999-11-12T00:00:00.000Z\",\"type\":3}]},{\"iso_3166_1\":\"NZ\",\"release_dates\":[{\"certification\":\"18\",\"descriptors\":[],\"iso_639_1\":\"\",\"note\":\"\",\"release_date\":\"1999-11-11T00:00:00.000Z\",\"type\":3}]},{\"iso_3166_1\":\"PH\",\"release_dates\":[{\"certification\":\"R-18\",\"descriptors\":[],\"iso_639_1\":\"\",\"note\":\"Davao\",\"release_date\":\"1999-11-17T00:00:00.000Z\",\"type\":3}]},{\"iso_3166_1\":\"PL\",\"release_dates\":[{\"certification\":\"18\",\"descriptors\":[],\"iso_639_1\":\"\",\"note\":\"\",\"release_date\":\"2000-02-11T00:00:00.000Z\",\"type\":3}]},{\"iso_3166_1\":\"PT\",\"release_dates\":[{\"certification\":\"M/18\",\"descriptors\":[],\"iso_639_1\":\"en\",\"note\":\"\",\"release_date\":\"1999-11-12T00:00:00.000Z\",\"type\":3}]},{\"iso_3166_1\":\"RO\",\"release_dates\":[{\"certification\":\"18+\",\"descriptors\":[],\"iso_639_1\":\"\",\"note\":\"\",\"release_date\":\"2000-02-18T00:00:00.000Z\",\"type\":3}]},{\"iso_3166_1\":\"RU\",\"release_dates\":[{\"certification\":\"18+\",\"descriptors\":[],\"iso_639_1\":\"\",\"note\":\"Re-release\",\"release_date\":\"2019-07-25T00:00:00.000Z\",\"type\":3},{\"certification\":\"18+\",\"descriptors\":[],\"iso_639_1\":\"\",\"note\":\"\",\"release_date\":\"2000-01-13T00:00:00.000Z\",\"type\":3}]},{\"iso_3166_1\":\"SE\",\"release_dates\":[{\"certification\":\"15\",\"descriptors\":[],\"iso_639_1\":\"\",\"note\":\"\",\"release_date\":\"1999-12-25T00:00:00.000Z\",\"type\":3}]},{\"iso_3166_1\":\"SG\",\"release_dates\":[{\"certification\":\"M18 \",\"descriptors\":[],\"iso_639_1\":\"\",\"note\":\"\",\"release_date\":\"1999-11-04T00:00:00.000Z\",\"type\":3}]},{\"iso_3166_1\":\"SI\",\"release_dates\":[{\"certification\":\"\",\"descriptors\":[],\"iso_639_1\":\"\",\"note\":\"\",\"release_date\":\"2000-02-24T00:00:00.000Z\",\"type\":3}]},{\"iso_3166_1\":\"SK\",\"release_dates\":[{\"certification\":\"\",\"descriptors\":[],\"iso_639_1\":\"\",\"note\":\"\",\"release_date\":\"2000-02-10T00:00:00.000Z\",\"type\":3}]},{\"iso_3166_1\":\"TR\",\"release_dates\":[{\"certification\":\"\",\"descriptors\":[],\"iso_639_1\":\"\",\"note\":\"\",\"release_date\":\"1999-12-10T00:00:00.000Z\",\"type\":3}]},{\"iso_3166_1\":\"TW\",\"release_dates\":[{\"certification\":\"R-18 \",\"descriptors\":[],\"iso_639_1\":\"\",\"note\":\"\",\"release_date\":\"1999-11-11T00:00:00.000Z\",\"type\":3},{\"certification\":\"\",\"descriptors\":[],\"iso_639_1\":\"\",\"note\":\"Re-release\",\"release_date\":\"2017-09-22T00:00:00.000Z\",\"type\":3}]},{\"iso_3166_1\":\"US\",\"release_dates\":[{\"certification\":\"\",\"descriptors\":[],\"iso_639_1\":\"\",\"note\":\"CMJ Film Festival\",\"release_date\":\"1999-09-21T00:00:00.000Z\",\"type\":1},{\"certification\":\"\",\"descriptors\":[],\"iso_639_1\":\"\",\"note\":\"Westwood, California\",\"release_date\":\"1999-10-06T00:00:00.000Z\",\"type\":1},{\"certification\":\"R\",\"descriptors\":[],\"iso_639_1\":\"\",\"note\":\"\",\"release_date\":\"1999-10-15T00:00:00.000Z\",\"type\":3},{\"certification\":\"R\",\"descriptors\":[],\"iso_639_1\":\"\",\"note\":\"VHS\",\"release_date\":\"2000-04-25T00:00:00.000Z\",\"type\":5}]},{\"iso_3166_1\":\"UY\",\"release_dates\":[{\"certification\":\"\",\"descriptors\":[],\"iso_639_1\":\"\",\"note\":\"\",\"release_date\":\"1999-11-12T00:00:00.000Z\",\"type\":3}]},{\"iso_3166_1\":\"VN\",\"release_dates\":[{\"certification\":\"\",\"descriptors\":[],\"iso_639_1\":\"\",\"note\":\"\",\"release_date\":\"1999-10-15T00:00:00.000Z\",\"type\":3}]},{\"iso_3166_1\":\"ZA\",\"release_dates\":[{\"certification\":\"16\",\"descriptors\":[],\"iso_639_1\":\"\",\"note\":\"\",\"release_date\":\"2000-01-28T00:00:00.000Z\",\"type\":3}]}]}\n"
     ]
    }
   ],
   "source": [
    "import requests\n",
    "\n",
    "movie_id = 550  # Replace with the actual movie ID you want\n",
    "api_key = \"8265bd1679663a7ea12ac168da84d2e8\"\n",
    "url = f\"https://api.themoviedb.org/3/movie/{movie_id}/release_dates?api_key={api_key}\"\n",
    "\n",
    "headers = {\"accept\": \"application/json\"}\n",
    "\n",
    "response = requests.get(url, headers=headers)\n",
    "\n",
    "print(response.text)"
   ]
  },
  {
   "cell_type": "code",
   "execution_count": 3,
   "metadata": {},
   "outputs": [
    {
     "name": "stdout",
     "output_type": "stream",
     "text": [
      "{\"status_code\":7,\"status_message\":\"Invalid API key: You must be granted a valid key.\",\"success\":false}\n",
      "\n"
     ]
    }
   ],
   "source": [
    "import requests\n",
    "\n",
    "url = \"https://api.themoviedb.org/3/movie/movie_id/lists?api_key={api_key}/language=en-US&page=1\"\n",
    "\n",
    "headers = {\"accept\": \"application/json\"}\n",
    "\n",
    "response = requests.get(url, headers=headers)\n",
    "\n",
    "print(response.text)"
   ]
  },
  {
   "cell_type": "code",
   "execution_count": 4,
   "metadata": {},
   "outputs": [
    {
     "name": "stdout",
     "output_type": "stream",
     "text": [
      "{\"message\":\"You are not subscribed to this API.\"}\n"
     ]
    }
   ],
   "source": [
    "import http.client\n",
    "\n",
    "conn = http.client.HTTPSConnection(\"everyearthquake.p.rapidapi.com\")\n",
    "\n",
    "headers = {\n",
    "    'x-rapidapi-key': \"b6647effd9msh76ad6aebb5d5d38p197744jsnb8a12449cb7c\",\n",
    "    'x-rapidapi-host': \"everyearthquake.p.rapidapi.com\"\n",
    "}\n",
    "\n",
    "conn.request(\"GET\", \"/recentEarthquakes?interval=P1Y2M3W4DT1H2M3S&start=1&count=100&type=earthquake&latitude=33.962523&longitude=-118.3706975&radius=1000&units=miles&magnitude=3&intensity=1\", headers=headers)\n",
    "\n",
    "res = conn.getresponse()\n",
    "data = res.read()\n",
    "\n",
    "print(data.decode(\"utf-8\"))"
   ]
  },
  {
   "cell_type": "code",
   "execution_count": 5,
   "metadata": {},
   "outputs": [
    {
     "name": "stdout",
     "output_type": "stream",
     "text": [
      "hello\n"
     ]
    }
   ],
   "source": [
    "print(\"hello\")"
   ]
  },
  {
   "cell_type": "code",
   "execution_count": 6,
   "metadata": {},
   "outputs": [
    {
     "name": "stdout",
     "output_type": "stream",
     "text": [
      "{\"message\":\"Too many requests\"}\n"
     ]
    }
   ],
   "source": [
    "import http.client\n",
    "\n",
    "conn = http.client.HTTPSConnection(\"everyearthquake.p.rapidapi.com\")\n",
    "\n",
    "headers = {\n",
    "    'x-rapidapi-key': \"b6647effd9msh76ad6aebb5d5d38p197744jsnb8a12449cb7c\",\n",
    "    'x-rapidapi-host': \"everyearthquake.p.rapidapi.com\"\n",
    "}\n",
    "\n",
    "conn.request(\"GET\", \"/recentEarthquakes?interval=P1Y2M3W4DT1H2M3S&start=1&count=100&type=earthquake&latitude=33.962523&longitude=-118.3706975&radius=1000&units=miles&magnitude=3&intensity=1\", headers=headers)\n",
    "\n",
    "res = conn.getresponse()\n",
    "data = res.read()\n",
    "\n",
    "print(data.decode(\"utf-8\"))"
   ]
  },
  {
   "cell_type": "code",
   "execution_count": 7,
   "metadata": {},
   "outputs": [
    {
     "name": "stdout",
     "output_type": "stream",
     "text": [
      "{\"message\":\"Too many requests\"}\n"
     ]
    }
   ],
   "source": [
    "import http.client\n",
    "\n",
    "conn = http.client.HTTPSConnection(\"everyearthquake.p.rapidapi.com\")\n",
    "\n",
    "headers = {\n",
    "    'x-rapidapi-key': \"b6647effd9msh76ad6aebb5d5d38p197744jsnb8a12449cb7c\",\n",
    "    'x-rapidapi-host': \"everyearthquake.p.rapidapi.com\"\n",
    "}\n",
    "\n",
    "conn.request(\"GET\", \"/recentEarthquakes?interval=P1Y2M3W4DT1H2M3S&start=1&count=100&type=earthquake&latitude=33.962523&longitude=-118.3706975&radius=1000&units=miles&magnitude=3&intensity=1\", headers=headers)\n",
    "\n",
    "res = conn.getresponse()\n",
    "data = res.read()\n",
    "\n",
    "print(data.decode(\"utf-8\"))"
   ]
  },
  {
   "cell_type": "code",
   "execution_count": 8,
   "metadata": {},
   "outputs": [
    {
     "name": "stdout",
     "output_type": "stream",
     "text": [
      "{\"message\":\"Too many requests\"}\n"
     ]
    }
   ],
   "source": [
    "import http.client\n",
    "\n",
    "conn = http.client.HTTPSConnection(\"everyearthquake.p.rapidapi.com\")\n",
    "\n",
    "headers = {\n",
    "    'x-rapidapi-key': \"b6647effd9msh76ad6aebb5d5d38p197744jsnb8a12449cb7c\",\n",
    "    'x-rapidapi-host': \"everyearthquake.p.rapidapi.com\"\n",
    "}\n",
    "\n",
    "conn.request(\"GET\", \"/recentEarthquakes?interval=P1Y2M3W4DT1H2M3S&start=1&count=100&type=earthquake&latitude=33.962523&longitude=-118.3706975&radius=1000&units=miles&magnitude=3&intensity=1\", headers=headers)\n",
    "\n",
    "res = conn.getresponse()\n",
    "data = res.read()\n",
    "\n",
    "print(data.decode(\"utf-8\"))"
   ]
  },
  {
   "cell_type": "code",
   "execution_count": null,
   "metadata": {},
   "outputs": [],
   "source": []
  }
 ],
 "metadata": {
  "kernelspec": {
   "display_name": ".venv",
   "language": "python",
   "name": "python3"
  },
  "language_info": {
   "codemirror_mode": {
    "name": "ipython",
    "version": 3
   },
   "file_extension": ".py",
   "mimetype": "text/x-python",
   "name": "python",
   "nbconvert_exporter": "python",
   "pygments_lexer": "ipython3",
   "version": "3.13.1"
  }
 },
 "nbformat": 4,
 "nbformat_minor": 2
}
